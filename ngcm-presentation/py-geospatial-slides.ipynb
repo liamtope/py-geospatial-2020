{
 "cells": [
  {
   "cell_type": "code",
   "execution_count": 2,
   "metadata": {
    "slideshow": {
     "slide_type": "skip"
    }
   },
   "outputs": [
    {
     "data": {
      "application/javascript": [
       "IPython.notebook.config.update({\n",
       "  \"load_extensions\": {\"calico-spell-check\":true,\n",
       "                      \"calico-document-tools\":true,\n",
       "                      \"calico-cell-tools\":true\n",
       "                     }\n",
       "})\n"
      ],
      "text/plain": [
       "<IPython.core.display.Javascript object>"
      ]
     },
     "metadata": {},
     "output_type": "display_data"
    }
   ],
   "source": [
    "%%javascript\n",
    "IPython.notebook.config.update({\n",
    "  \"load_extensions\": {\"calico-spell-check\":true,\n",
    "                      \"calico-document-tools\":true,\n",
    "                      \"calico-cell-tools\":true\n",
    "                     }\n",
    "})"
   ]
  },
  {
   "cell_type": "code",
   "execution_count": 3,
   "metadata": {
    "slideshow": {
     "slide_type": "skip"
    }
   },
   "outputs": [
    {
     "data": {
      "text/html": [
       "<style>\n",
       "div.text_cell_render {\n",
       "    font-size: 19pt;\n",
       "}\n",
       "</style>\n"
      ],
      "text/plain": [
       "<IPython.core.display.HTML object>"
      ]
     },
     "metadata": {},
     "output_type": "display_data"
    }
   ],
   "source": [
    "%%html\n",
    "<style>\n",
    "div.text_cell_render {\n",
    "    font-size: 19pt;\n",
    "}\n",
    "</style>"
   ]
  },
  {
   "cell_type": "markdown",
   "metadata": {
    "slideshow": {
     "slide_type": "slide"
    }
   },
   "source": [
    "<center>\n",
    "    <h1> Geospatial data and analysis with Python </h1>\n",
    "    <h3> <em> An overview of the NGCM Workshop with Chris Jochem </em> </h3>\n",
    "    <h4> - Liam Tope </h4>\n",
    "</center>"
   ]
  },
  {
   "cell_type": "markdown",
   "metadata": {
    "slideshow": {
     "slide_type": "slide"
    }
   },
   "source": [
    "# Workshop Introduction\n",
    "\n",
    "- <b style=\"color:#3352FF;\">Who:</b>\n",
    "    - Led by Chris Jochem of the WorldPop group \n",
    "        in the Geography Department of the University of\n",
    "        Southampton \n",
    "    - Supported by two of his PhD Students: \n",
    "        Josie Baulch, and Chris Tomsett\n",
    "\n",
    "- <b style=\"color:#3352FF;\">When:</b> Took place over two full days on 22/09/2020 and 24/09/2020 \n",
    "\n",
    "- <b style=\"color:#3352FF;\">Where:</b> (Unsurprisingly) Microsoft Teams \n",
    "\n",
    "- <b style=\"color:#3352FF;\">What:</b>\n",
    "    - Online short lectures \n",
    "    - Hands-on practicals via Jupyter Notebooks \n",
    "    - Self-study, additional reading/watching material, and further challenges"
   ]
  },
  {
   "cell_type": "markdown",
   "metadata": {
    "slideshow": {
     "slide_type": "subslide"
    }
   },
   "source": [
    "# Workshop Topics\n",
    "\n",
    "- <b style=\"color:#3352FF;\"> Day 1:</b>\n",
    "    - Some stuff\n",
    "    - Some more stuff\n",
    "    \n",
    "- <b style=\"color:#3352FF;\"> Day 2:</b>\n",
    "    - Again, some stuff\n",
    "    - Again, some more stuff\n"
   ]
  }
 ],
 "metadata": {
  "celltoolbar": "Slideshow",
  "kernelspec": {
   "display_name": "Python 3",
   "language": "python",
   "name": "python3"
  },
  "language_info": {
   "codemirror_mode": {
    "name": "ipython",
    "version": 3
   },
   "file_extension": ".py",
   "mimetype": "text/x-python",
   "name": "python",
   "nbconvert_exporter": "python",
   "pygments_lexer": "ipython3",
   "version": "3.8.5"
  }
 },
 "nbformat": 4,
 "nbformat_minor": 4
}
